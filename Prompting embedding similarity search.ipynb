{
 "cells": [
  {
   "cell_type": "markdown",
   "id": "c1efd19b-2efd-4d7b-84a4-984e78791246",
   "metadata": {},
   "source": [
    "## Prompting \n",
    "Source: https://docs.gpt4all.io/index.html"
   ]
  },
  {
   "cell_type": "code",
   "execution_count": 16,
   "id": "c312e484-d118-4f68-adab-7db5ea279aa1",
   "metadata": {},
   "outputs": [],
   "source": [
    "#! pip install gpt4all\n",
    "#! pip install nomic"
   ]
  },
  {
   "cell_type": "code",
   "execution_count": 38,
   "id": "a9cae58c-41aa-4dd0-85f6-a730f90b0ecd",
   "metadata": {},
   "outputs": [],
   "source": [
    "from gpt4all import GPT4All\n",
    "model_meta_llama = GPT4All(\"Meta-Llama-3-8B-Instruct.Q4_0.gguf\") # downloads / loads a 4.66GB LLM"
   ]
  },
  {
   "cell_type": "code",
   "execution_count": 50,
   "id": "7443289c-5e1b-4a4a-bc9a-913a50374e99",
   "metadata": {},
   "outputs": [
    {
     "name": "stdout",
     "output_type": "stream",
     "text": [
      "Ja, jeg vil nu vurdere om teksten indeholder en beskrivelse af vold.\n",
      "\n",
      "Jeg kan konstatere at der er flere eksempler på voldelig adfærd i denne tekst:\n",
      "\n",
      "* Heksen siger \"Så huggede soldaten hovedet af hende.\" Det er et tydeligt eksempel på fysisk vold.\n",
      "* Soldaten truer med at hugge heksens hoved af,\n",
      "Time taken to run the code: 73.59 seconds\n"
     ]
    }
   ],
   "source": [
    "# Text from the Tinder box (HCA)\n",
    "import time\n",
    "# Start the timer\n",
    "start_time = time.time()\n",
    "\n",
    "text = '  Hvad vil du nu med det fyrtøj, spurgte soldaten. \\\n",
    "             Det kommer ikke dig ved! sagde heksen, nu har du jo fået penge! \\\n",
    "            Giv mig bare fyrtøjet! Snik snak! sagde soldaten, \\\n",
    "            \\\n",
    "             vil du straks sige mig, hvad du vil med det, eller jeg trækker min sabel \\\n",
    "            ud og hugger dit hoved af! Nej, sagde heksen. \\\n",
    "            \\\n",
    "            Så huggede soldaten hovedet af hende. Der lå hun! Men han bandt alle sine \\\n",
    "            penge ind i hendes forklæde, tog det som en bylt på ryggen, puttede fyrtøjet \\\n",
    "            i lommen og gik lige til byen.'\n",
    "\n",
    "with model_meta_llama.chat_session():\n",
    "    print(model_meta_llama.generate(f\"Du bliver præsentret for en tekst og din opgave er at vurdere om teksten \\\n",
    "                            indeholder en beskrivelse af vold: {text}\", max_tokens=100))\n",
    "\n",
    "# End the timer\n",
    "end_time = time.time()\n",
    "\n",
    "# Calculate the elapsed time\n",
    "print('\\n')\n",
    "elapsed_time = end_time - start_time\n",
    "print(f\"Time taken to run the code: {elapsed_time:.2f} seconds\")"
   ]
  },
  {
   "cell_type": "code",
   "execution_count": 51,
   "id": "ebce270d-640d-4abd-9403-405ace348eb4",
   "metadata": {},
   "outputs": [],
   "source": [
    "from gpt4all import GPT4All\n",
    "gpt4all_model = GPT4All(\"gpt4all-13b-snoozy-q4_0.gguf\") # downloads / loads a 4.66GB LLM"
   ]
  },
  {
   "cell_type": "code",
   "execution_count": 52,
   "id": "7f765c9c-90ad-4f77-8919-5b0f6a3203a9",
   "metadata": {},
   "outputs": [
    {
     "name": "stdout",
     "output_type": "stream",
     "text": [
      "The text describes a violent encounter between two characters - a soldier and a woman who is referred to as \"heksen\" (the witch). The conversation begins with the soldier asking for something, but hexes refuses to tell him what it is. She then asks for his money in exchange for an object that she refers to as fyrtøj (which translates to \"fire equipment\"). When the soldier refuses her request and insults her, hexen becomes angry and\n",
      "Time taken to run the code: 126.13 seconds\n"
     ]
    }
   ],
   "source": [
    "import time\n",
    "# Start the timer\n",
    "start_time = time.time()\n",
    "\n",
    "text = '  Hvad vil du nu med det fyrtøj, spurgte soldaten. \\\n",
    "             Det kommer ikke dig ved! sagde heksen, nu har du jo fået penge! \\\n",
    "            Giv mig bare fyrtøjet! Snik snak! sagde soldaten, \\\n",
    "            \\\n",
    "             vil du straks sige mig, hvad du vil med det, eller jeg trækker min sabel \\\n",
    "            ud og hugger dit hoved af! Nej, sagde heksen. \\\n",
    "            \\\n",
    "            Så huggede soldaten hovedet af hende. Der lå hun! Men han bandt alle sine \\\n",
    "            penge ind i hendes forklæde, tog det som en bylt på ryggen, puttede fyrtøjet \\\n",
    "            i lommen og gik lige til byen.'\n",
    "\n",
    "with gpt4all_model.chat_session():\n",
    "    print(gpt4all_model.generate(f\"You will be presneted for a text and your task is to evaluate it the text\\\n",
    "                            holds a description of violence: {text}\", max_tokens=100))\n",
    "\n",
    "\n",
    "# End the timer\n",
    "end_time = time.time()\n",
    "\n",
    "# Calculate the elapsed time\n",
    "print('\\n')\n",
    "elapsed_time = end_time - start_time\n",
    "print(f\"Time taken to run the code: {elapsed_time:.2f} seconds\")"
   ]
  },
  {
   "cell_type": "markdown",
   "id": "cbd1c858-6957-4d2b-a5ab-40bd3c7c3d18",
   "metadata": {},
   "source": [
    "##  Embeddnings\n",
    "\n",
    "Source: https://docs.gpt4all.io/gpt4all_python/home.html#installation"
   ]
  },
  {
   "cell_type": "code",
   "execution_count": 53,
   "id": "355295c9-dd01-44fa-8582-6b81bf06033c",
   "metadata": {},
   "outputs": [],
   "source": [
    "#! pip install gpt4all\n",
    "#! pip install nomic"
   ]
  },
  {
   "cell_type": "code",
   "execution_count": 54,
   "id": "0e1744f8-8929-4321-9e33-688615457b04",
   "metadata": {},
   "outputs": [
    {
     "name": "stdout",
     "output_type": "stream",
     "text": [
      "Number of embeddings created: 2\n",
      "Number of dimensions per embedding: 768\n"
     ]
    }
   ],
   "source": [
    "from nomic import embed\n",
    "embeddings = embed.text([\"String 1\", \"String 2\"], inference_mode=\"local\")['embeddings']\n",
    "print(\"Number of embeddings created:\", len(embeddings))\n",
    "print(\"Number of dimensions per embedding:\", len(embeddings[0]))"
   ]
  },
  {
   "cell_type": "markdown",
   "id": "2b388694-0f83-46fc-b4b0-6b8a44379ec4",
   "metadata": {},
   "source": [
    "## Embeddnings and Similarity search\n",
    "\n",
    "Embedding is a fantastic technology that really can help us when we work with texts and images and information retrieval. \n",
    "\n",
    "Here follows an example with embedding with texts.\n",
    "\n",
    "### Explanation:\n",
    "This code snippet is designed to find the most similar text to a given query from a list of texts. It does this by:\n",
    "1. Generating embeddings for the query and the texts.\n",
    "2. Reshaping the embeddings to 2D arrays.\n",
    "3. Computing the cosine similarity between the query embedding and each text embedding.\n",
    "4. Identifying the text with the highest similarity score.\n",
    "\n",
    "The output will be the index of the text that is most similar to the query."
   ]
  },
  {
   "cell_type": "code",
   "execution_count": 56,
   "id": "a6769c09-ab00-411d-8d39-8bc4d04f5991",
   "metadata": {},
   "outputs": [
    {
     "name": "stdout",
     "output_type": "stream",
     "text": [
      "The nearest neighbor index is: 0\n"
     ]
    }
   ],
   "source": [
    "from nomic import embed\n",
    "from sklearn.metrics.pairwise import cosine_similarity\n",
    "import numpy as np\n",
    "\n",
    "embed_text_one = \"Along the Swedish coasts you can find rose plants and raspberry plants\"\n",
    "embed_text_two = \"The nuclear power plant and the oil drilling plants is located among the fruit plants on the Swedish coast\"\n",
    "\n",
    "query = 'A garter is looking for plants and fruits'\n",
    "\n",
    "# Get the embeddings\n",
    "embed_query = embed.text([query], inference_mode=\"local\")['embeddings']\n",
    "\n",
    "embed_text = embed.text([embed_text_one,\n",
    "                         embed_text_two], inference_mode=\"local\")['embeddings']\n",
    "\n",
    "# Flatten the embeddings to 2D arrays\n",
    "embed_query = np.array(embed_query).reshape(1, -1)  # Reshape to (1, embedding_size)\n",
    "embed_text = np.array(embed_text).reshape(len(embed_text), -1)  # Reshape to (num_texts, embedding_size)\n",
    "\n",
    "# Compute cosine similarity\n",
    "similarities = cosine_similarity(embed_query, embed_text)\n",
    "\n",
    "# Find the index of the nearest neighbor\n",
    "nearest_neighbor_index = np.argmax(similarities)\n",
    "\n",
    "print(f\"The nearest neighbor index is: {nearest_neighbor_index}\")\n"
   ]
  },
  {
   "cell_type": "code",
   "execution_count": null,
   "id": "11b9649e-abd2-49e2-bc03-0334801ec55a",
   "metadata": {},
   "outputs": [],
   "source": []
  }
 ],
 "metadata": {
  "kernelspec": {
   "display_name": "Python 3 (ipykernel)",
   "language": "python",
   "name": "python3"
  },
  "language_info": {
   "codemirror_mode": {
    "name": "ipython",
    "version": 3
   },
   "file_extension": ".py",
   "mimetype": "text/x-python",
   "name": "python",
   "nbconvert_exporter": "python",
   "pygments_lexer": "ipython3",
   "version": "3.12.4"
  }
 },
 "nbformat": 4,
 "nbformat_minor": 5
}
